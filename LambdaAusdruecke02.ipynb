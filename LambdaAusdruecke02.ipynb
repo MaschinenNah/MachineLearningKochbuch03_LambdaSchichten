{
  "nbformat": 4,
  "nbformat_minor": 0,
  "metadata": {
    "colab": {
      "name": "LambdaAusdruecke02.ipynb",
      "provenance": [],
      "collapsed_sections": [],
      "authorship_tag": "ABX9TyNoDrilXOzVjQ6dHNtAwASu",
      "include_colab_link": true
    },
    "kernelspec": {
      "name": "python3",
      "display_name": "Python 3"
    },
    "language_info": {
      "name": "python"
    }
  },
  "cells": [
    {
      "cell_type": "markdown",
      "metadata": {
        "id": "view-in-github",
        "colab_type": "text"
      },
      "source": [
        "<a href=\"https://colab.research.google.com/github/MaschinenNah/MachineLearningKochbuch03_LambdaSchichten/blob/main/LambdaAusdruecke02.ipynb\" target=\"_parent\"><img src=\"https://colab.research.google.com/assets/colab-badge.svg\" alt=\"Open In Colab\"/></a>"
      ]
    },
    {
      "cell_type": "markdown",
      "metadata": {
        "id": "cjJiivyK89Od"
      },
      "source": [
        "# Lambda Schichten 02 \n"
      ]
    },
    {
      "cell_type": "code",
      "metadata": {
        "id": "xl5WmCcFc03_"
      },
      "source": [
        "from keras.layers import Input, Lambda\n",
        "from keras.models import Model\n",
        "import numpy as np\n",
        "import tensorflow as tf\n",
        "\n",
        "# Hier kommen einige unwichtige und störende Warnungen, deshalb:\n",
        "import warnings\n",
        "warnings.filterwarnings('ignore')\n",
        "\n",
        "# Weil Modelle immer Batches verarbeiten, \n",
        "# wir uns aber erst einmal einzelne Beispiele anschauen wollen:\n",
        "def predict_single(model, input):\n",
        "  input = input[np.newaxis, ...]\n",
        "  output = model.predict(input)[0]\n",
        "  return output"
      ],
      "execution_count": 39,
      "outputs": []
    },
    {
      "cell_type": "markdown",
      "metadata": {
        "id": "iRljUPXX53MD"
      },
      "source": [
        "### Eine Lambda Schicht, die auf jeden Input 1 addiert"
      ]
    },
    {
      "cell_type": "code",
      "metadata": {
        "colab": {
          "base_uri": "https://localhost:8080/"
        },
        "id": "0jtaZZtofpER",
        "outputId": "c19c5a48-d143-47d7-ee90-0edddbba6348"
      },
      "source": [
        "input_layer = Input((3))\n",
        "output_layer = Lambda(lambda n : n+1)(input_layer)\n",
        "model = Model(input_layer, output_layer)\n",
        "model.summary()"
      ],
      "execution_count": 22,
      "outputs": [
        {
          "output_type": "stream",
          "text": [
            "Model: \"model_9\"\n",
            "_________________________________________________________________\n",
            "Layer (type)                 Output Shape              Param #   \n",
            "=================================================================\n",
            "input_10 (InputLayer)        [(None, 3)]               0         \n",
            "_________________________________________________________________\n",
            "lambda_9 (Lambda)            (None, 3)                 0         \n",
            "=================================================================\n",
            "Total params: 0\n",
            "Trainable params: 0\n",
            "Non-trainable params: 0\n",
            "_________________________________________________________________\n"
          ],
          "name": "stdout"
        }
      ]
    },
    {
      "cell_type": "code",
      "metadata": {
        "colab": {
          "base_uri": "https://localhost:8080/"
        },
        "id": "BoAmhEx_5PoD",
        "outputId": "f2812b39-cd30-422e-d3b8-a3cb5de92cb9"
      },
      "source": [
        "predict_single(model, np.array([1,1,1]))"
      ],
      "execution_count": 25,
      "outputs": [
        {
          "output_type": "execute_result",
          "data": {
            "text/plain": [
              "array([2., 2., 2.], dtype=float32)"
            ]
          },
          "metadata": {
            "tags": []
          },
          "execution_count": 25
        }
      ]
    },
    {
      "cell_type": "code",
      "metadata": {
        "colab": {
          "base_uri": "https://localhost:8080/"
        },
        "id": "SxgZHSkO5qaw",
        "outputId": "5912b711-151a-47a3-db42-5c3207041d58"
      },
      "source": [
        "predict_single(model, np.array([1,2,3]))"
      ],
      "execution_count": 24,
      "outputs": [
        {
          "output_type": "execute_result",
          "data": {
            "text/plain": [
              "array([2., 3., 4.], dtype=float32)"
            ]
          },
          "metadata": {
            "tags": []
          },
          "execution_count": 24
        }
      ]
    },
    {
      "cell_type": "markdown",
      "metadata": {
        "id": "WhDGvNWp6LiS"
      },
      "source": [
        "### Eine Lambda Schicht, die jeden Input rundet:\n",
        "\n",
        "\n",
        "\n"
      ]
    },
    {
      "cell_type": "code",
      "metadata": {
        "colab": {
          "base_uri": "https://localhost:8080/"
        },
        "id": "c5Ynw1md6KhA",
        "outputId": "b1d70d2c-653f-4c2a-a67c-8f34cd1c4b5d"
      },
      "source": [
        "input_layer = Input((3))\n",
        "output_layer = Lambda(lambda n : tf.where(n < 0.5, 0, 1))(input_layer)\n",
        "model = Model(input_layer, output_layer)\n",
        "model.summary()"
      ],
      "execution_count": 42,
      "outputs": [
        {
          "output_type": "stream",
          "text": [
            "Model: \"model_13\"\n",
            "_________________________________________________________________\n",
            "Layer (type)                 Output Shape              Param #   \n",
            "=================================================================\n",
            "input_20 (InputLayer)        [(None, 3)]               0         \n",
            "_________________________________________________________________\n",
            "lambda_19 (Lambda)           (None, 3)                 0         \n",
            "=================================================================\n",
            "Total params: 0\n",
            "Trainable params: 0\n",
            "Non-trainable params: 0\n",
            "_________________________________________________________________\n"
          ],
          "name": "stdout"
        }
      ]
    },
    {
      "cell_type": "code",
      "metadata": {
        "colab": {
          "base_uri": "https://localhost:8080/"
        },
        "id": "382virhq8kH0",
        "outputId": "69c7d310-becc-467f-cddf-7f059574d704"
      },
      "source": [
        "predict_single(model, np.array([0.1, 0.5, 0.3]))"
      ],
      "execution_count": 43,
      "outputs": [
        {
          "output_type": "execute_result",
          "data": {
            "text/plain": [
              "array([0, 1, 0], dtype=int32)"
            ]
          },
          "metadata": {
            "tags": []
          },
          "execution_count": 43
        }
      ]
    }
  ]
}