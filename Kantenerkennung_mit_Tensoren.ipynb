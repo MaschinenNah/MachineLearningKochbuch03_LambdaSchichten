{
  "nbformat": 4,
  "nbformat_minor": 0,
  "metadata": {
    "colab": {
      "name": "Kantenerkennung mit Tensoren.ipynb",
      "provenance": [],
      "collapsed_sections": [],
      "authorship_tag": "ABX9TyPleML91afTqeOpvdGrHHPc",
      "include_colab_link": true
    },
    "kernelspec": {
      "name": "python3",
      "display_name": "Python 3"
    },
    "language_info": {
      "name": "python"
    }
  },
  "cells": [
    {
      "cell_type": "markdown",
      "metadata": {
        "id": "view-in-github",
        "colab_type": "text"
      },
      "source": [
        "<a href=\"https://colab.research.google.com/github/MaschinenNah/MachineLearningKochbuch03_LambdaSchichten/blob/main/Kantenerkennung_mit_Tensoren.ipynb\" target=\"_parent\"><img src=\"https://colab.research.google.com/assets/colab-badge.svg\" alt=\"Open In Colab\"/></a>"
      ]
    },
    {
      "cell_type": "markdown",
      "metadata": {
        "id": "cjJiivyK89Od"
      },
      "source": [
        "# Lambda Schichten 03\n"
      ]
    },
    {
      "cell_type": "code",
      "metadata": {
        "id": "xl5WmCcFc03_",
        "colab": {
          "base_uri": "https://localhost:8080/"
        },
        "outputId": "c6b8ddab-622f-460a-98e6-e47b527f63f7"
      },
      "source": [
        "from keras.layers import Input, Lambda\n",
        "from keras.models import Model\n",
        "import numpy as np\n",
        "import tensorflow as tf\n",
        "from matplotlib import pyplot as plt\n",
        "\n",
        "!git clone https://github.com/MaschinenNah/ml_utils\n",
        "from ml_utils import load\n",
        "from ml_utils import convert\n",
        "from ml_utils import show\n",
        "from ml_utils import frame_predict as fp\n",
        "\n",
        "# Hier kommen einige unwichtige und störende Warnungen, deshalb:\n",
        "import warnings\n",
        "warnings.filterwarnings('ignore')\n",
        "\n",
        "# Weil Modelle immer Batches verarbeiten, \n",
        "# wir uns aber erst einmal einzelne Beispiele anschauen wollen:\n",
        "def predict_single(model, input):\n",
        "  input = input[np.newaxis, ...]\n",
        "  output = model.predict(input)[0]\n",
        "  return output"
      ],
      "execution_count": null,
      "outputs": [
        {
          "output_type": "stream",
          "text": [
            "Cloning into 'ml_utils'...\n",
            "remote: Enumerating objects: 121, done.\u001b[K\n",
            "remote: Counting objects: 100% (121/121), done.\u001b[K\n",
            "remote: Compressing objects: 100% (85/85), done.\u001b[K\n",
            "remote: Total 121 (delta 56), reused 85 (delta 27), pack-reused 0\u001b[K\n",
            "Receiving objects: 100% (121/121), 14.38 KiB | 7.19 MiB/s, done.\n",
            "Resolving deltas: 100% (56/56), done.\n"
          ],
          "name": "stdout"
        }
      ]
    },
    {
      "cell_type": "code",
      "metadata": {
        "id": "nUZwvHkm_Dmj"
      },
      "source": [
        "zip_url = \"https://github.com/MaschinenNah/demo_daten/raw/main/farbige_bilder_48_48.zip\"\n",
        "load.load_and_unzip_from_url(zip_url)"
      ],
      "execution_count": null,
      "outputs": []
    },
    {
      "cell_type": "code",
      "metadata": {
        "colab": {
          "base_uri": "https://localhost:8080/",
          "height": 284
        },
        "id": "382virhq8kH0",
        "outputId": "0718f2ef-bf71-4c55-85a6-ee7d7c7bf401"
      },
      "source": [
        "path = \"/content/data/img_train/1110321_1.jpg\"\n",
        "img = load.img_path_to_np_array(path)\n",
        "img = convert.rgb_to_grayscale(img)\n",
        "plt.imshow(img, cmap='gray')"
      ],
      "execution_count": null,
      "outputs": [
        {
          "output_type": "execute_result",
          "data": {
            "text/plain": [
              "<matplotlib.image.AxesImage at 0x7f12166eb6d0>"
            ]
          },
          "metadata": {
            "tags": []
          },
          "execution_count": 3
        },
        {
          "output_type": "display_data",
          "data": {
            "image/png": "[encoded data removed]",
            "text/plain": [
              "<Figure size 432x288 with 1 Axes>"
            ]
          },
          "metadata": {
            "tags": [],
            "needs_background": "light"
          }
        }
      ]
    },
    {
      "cell_type": "code",
      "metadata": {
        "id": "F2DftOCoCYOc",
        "colab": {
          "base_uri": "https://localhost:8080/"
        },
        "outputId": "3d482652-4c5d-4ee5-e47a-49720d8ff86a"
      },
      "source": [
        "input_layer = Input((48, 48))\n",
        "output_layer = Lambda(lambda n : 1-n)(input_layer)\n",
        "invert = Model(input_layer, output_layer)\n",
        "invert.summary()"
      ],
      "execution_count": null,
      "outputs": [
        {
          "output_type": "stream",
          "text": [
            "Model: \"model_1\"\n",
            "_________________________________________________________________\n",
            "Layer (type)                 Output Shape              Param #   \n",
            "=================================================================\n",
            "input_2 (InputLayer)         [(None, 48, 48)]          0         \n",
            "_________________________________________________________________\n",
            "lambda_1 (Lambda)            (None, 48, 48)            0         \n",
            "=================================================================\n",
            "Total params: 0\n",
            "Trainable params: 0\n",
            "Non-trainable params: 0\n",
            "_________________________________________________________________\n"
          ],
          "name": "stdout"
        }
      ]
    },
    {
      "cell_type": "code",
      "metadata": {
        "id": "OQYNThtRCu2j",
        "colab": {
          "base_uri": "https://localhost:8080/",
          "height": 284
        },
        "outputId": "67f8641b-9fa5-41b9-89dd-67125b68a8a5"
      },
      "source": [
        "img_new = predict_single(invert, img)\n",
        "plt.imshow(img_new, cmap='gray')"
      ],
      "execution_count": null,
      "outputs": [
        {
          "output_type": "execute_result",
          "data": {
            "text/plain": [
              "<matplotlib.image.AxesImage at 0x7f1213142750>"
            ]
          },
          "metadata": {
            "tags": []
          },
          "execution_count": 6
        },
        {
          "output_type": "display_data",
          "data": {
            "image/png": "[encoded data removed]",
            "text/plain": [
              "<Figure size 432x288 with 1 Axes>"
            ]
          },
          "metadata": {
            "tags": [],
            "needs_background": "light"
          }
        }
      ]
    },
    {
      "cell_type": "code",
      "metadata": {
        "colab": {
          "base_uri": "https://localhost:8080/"
        },
        "id": "c5Ynw1md6KhA",
        "outputId": "1de29b9f-b28b-4b52-ddbb-a0dae691b333"
      },
      "source": [
        "input_layer = Input((48, 48))\n",
        "output_layer = Lambda(lambda n : tf.where(n < 0.5, 0, 1))(input_layer)\n",
        "gate = Model(input_layer, output_layer)\n",
        "gate.summary()"
      ],
      "execution_count": null,
      "outputs": [
        {
          "output_type": "stream",
          "text": [
            "Model: \"model_2\"\n",
            "_________________________________________________________________\n",
            "Layer (type)                 Output Shape              Param #   \n",
            "=================================================================\n",
            "input_3 (InputLayer)         [(None, 48, 48)]          0         \n",
            "_________________________________________________________________\n",
            "lambda_2 (Lambda)            (None, 48, 48)            0         \n",
            "=================================================================\n",
            "Total params: 0\n",
            "Trainable params: 0\n",
            "Non-trainable params: 0\n",
            "_________________________________________________________________\n"
          ],
          "name": "stdout"
        }
      ]
    },
    {
      "cell_type": "code",
      "metadata": {
        "colab": {
          "base_uri": "https://localhost:8080/",
          "height": 284
        },
        "id": "TEKYQtOBAg-p",
        "outputId": "177a7125-a505-4732-92d7-d3be74a1ea44"
      },
      "source": [
        "img_new = predict_single(gate, img)\n",
        "plt.imshow(img_new, cmap='gray')"
      ],
      "execution_count": null,
      "outputs": [
        {
          "output_type": "execute_result",
          "data": {
            "text/plain": [
              "<matplotlib.image.AxesImage at 0x7f12132e5950>"
            ]
          },
          "metadata": {
            "tags": []
          },
          "execution_count": 8
        },
        {
          "output_type": "display_data",
          "data": {
            "image/png": "[encoded data removed]",
            "text/plain": [
              "<Figure size 432x288 with 1 Axes>"
            ]
          },
          "metadata": {
            "tags": [],
            "needs_background": "light"
          }
        }
      ]
    }
  ]
}