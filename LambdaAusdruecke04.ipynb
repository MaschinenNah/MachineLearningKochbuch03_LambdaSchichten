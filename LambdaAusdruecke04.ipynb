{
  "nbformat": 4,
  "nbformat_minor": 0,
  "metadata": {
    "colab": {
      "name": "LambdaAusdruecke04.ipynb",
      "provenance": [],
      "collapsed_sections": [],
      "authorship_tag": "ABX9TyPeeZzq1r1S6Wb73B2zyvG0",
      "include_colab_link": true
    },
    "kernelspec": {
      "name": "python3",
      "display_name": "Python 3"
    },
    "language_info": {
      "name": "python"
    }
  },
  "cells": [
    {
      "cell_type": "markdown",
      "metadata": {
        "id": "view-in-github",
        "colab_type": "text"
      },
      "source": [
        "<a href=\"https://colab.research.google.com/github/MaschinenNah/MachineLearningKochbuch03_LambdaSchichten/blob/main/LambdaAusdruecke04.ipynb\" target=\"_parent\"><img src=\"https://colab.research.google.com/assets/colab-badge.svg\" alt=\"Open In Colab\"/></a>"
      ]
    },
    {
      "cell_type": "markdown",
      "metadata": {
        "id": "cjJiivyK89Od"
      },
      "source": [
        "# Tensoren\n"
      ]
    },
    {
      "cell_type": "code",
      "metadata": {
        "id": "GsavWSVDvH8V"
      },
      "source": [
        "from keras.layers import Input, Lambda\n",
        "from keras.models import Model\n",
        "import numpy as np"
      ],
      "execution_count": 1,
      "outputs": []
    },
    {
      "cell_type": "code",
      "metadata": {
        "id": "Bki2DJWJuinQ"
      },
      "source": [
        "def predict_single(model, input):\n",
        "  input = input[np.newaxis, ...]\n",
        "  output = model.predict(input)[0]\n",
        "  return output"
      ],
      "execution_count": 2,
      "outputs": []
    },
    {
      "cell_type": "code",
      "metadata": {
        "id": "Z5G2rTc_11-a"
      },
      "source": [
        "import tensorflow as tf"
      ],
      "execution_count": 5,
      "outputs": []
    },
    {
      "cell_type": "code",
      "metadata": {
        "colab": {
          "base_uri": "https://localhost:8080/"
        },
        "id": "Pjf5zDuI19s8",
        "outputId": "36ce6ac5-a4ce-490a-ab33-55ce4c618688"
      },
      "source": [
        "input_layer = Input((3,3))\n",
        "output_layer = tf.math.multiply(input_layer, input_layer)\n",
        "model4 = Model(input_layer, output_layer)\n",
        "\n",
        "model4.summary()"
      ],
      "execution_count": 10,
      "outputs": [
        {
          "output_type": "stream",
          "text": [
            "Model: \"model_3\"\n",
            "_________________________________________________________________\n",
            "Layer (type)                 Output Shape              Param #   \n",
            "=================================================================\n",
            "input_4 (InputLayer)         [(None, 3, 3)]            0         \n",
            "_________________________________________________________________\n",
            "tf.math.multiply_3 (TFOpLamb (None, 3, 3)              0         \n",
            "=================================================================\n",
            "Total params: 0\n",
            "Trainable params: 0\n",
            "Non-trainable params: 0\n",
            "_________________________________________________________________\n"
          ],
          "name": "stdout"
        }
      ]
    },
    {
      "cell_type": "code",
      "metadata": {
        "colab": {
          "base_uri": "https://localhost:8080/"
        },
        "id": "Z4gaXWOe2NAj",
        "outputId": "b81eef50-b8df-4967-908b-387131edb7ef"
      },
      "source": [
        "predict_single(model4, np.array([1,2,3,4,5,6,7,8,9]).reshape((3,3)))"
      ],
      "execution_count": 11,
      "outputs": [
        {
          "output_type": "execute_result",
          "data": {
            "text/plain": [
              "array([[ 3.,  6.,  9.],\n",
              "       [12., 15., 18.],\n",
              "       [21., 24., 27.]], dtype=float32)"
            ]
          },
          "metadata": {
            "tags": []
          },
          "execution_count": 11
        }
      ]
    },
    {
      "cell_type": "markdown",
      "metadata": {
        "id": "1c8iF68s3Upz"
      },
      "source": [
        "### Tensor reduce_sum"
      ]
    },
    {
      "cell_type": "code",
      "metadata": {
        "colab": {
          "base_uri": "https://localhost:8080/"
        },
        "id": "5R4PVY_d3bYI",
        "outputId": "1f0cccc1-90d4-4e67-af63-da70764efe23"
      },
      "source": [
        "input_layer = Input((3))\n",
        "output_layer = tf.reduce_sum(input_layer, axis=1)\n",
        "model5 = Model(input_layer, output_layer)\n",
        "\n",
        "model5.summary()"
      ],
      "execution_count": 12,
      "outputs": [
        {
          "output_type": "stream",
          "text": [
            "Model: \"model_4\"\n",
            "_________________________________________________________________\n",
            "Layer (type)                 Output Shape              Param #   \n",
            "=================================================================\n",
            "input_5 (InputLayer)         [(None, 3)]               0         \n",
            "_________________________________________________________________\n",
            "tf.math.reduce_sum (TFOpLamb (None,)                   0         \n",
            "=================================================================\n",
            "Total params: 0\n",
            "Trainable params: 0\n",
            "Non-trainable params: 0\n",
            "_________________________________________________________________\n"
          ],
          "name": "stdout"
        }
      ]
    },
    {
      "cell_type": "code",
      "metadata": {
        "colab": {
          "base_uri": "https://localhost:8080/"
        },
        "id": "Z-tvg89G3bYJ",
        "outputId": "5797b583-1349-4d8b-9110-87721adf39ed"
      },
      "source": [
        "predict_single(model5, np.array([1.1,1.2,2.3]))"
      ],
      "execution_count": 13,
      "outputs": [
        {
          "output_type": "execute_result",
          "data": {
            "text/plain": [
              "4.6000004"
            ]
          },
          "metadata": {
            "tags": []
          },
          "execution_count": 13
        }
      ]
    },
    {
      "cell_type": "markdown",
      "metadata": {
        "id": "61zVCapP59j6"
      },
      "source": [
        "### Tensor reduce_sum 2"
      ]
    },
    {
      "cell_type": "code",
      "metadata": {
        "colab": {
          "base_uri": "https://localhost:8080/"
        },
        "id": "DsY0zwf959j7",
        "outputId": "2fff7938-858d-45a2-92ce-81b6aa1a3a66"
      },
      "source": [
        "input_layer = Input((3, 3))\n",
        "output_layer = tf.reduce_sum(input_layer, axis=[1])\n",
        "model5 = Model(input_layer, output_layer)\n",
        "\n",
        "#model5.summary()\n",
        "\n",
        "arr = np.array([1,1,1,0,0,0,2,2,2]).reshape((3,3))\n",
        "\n",
        "print(arr)\n",
        "\n",
        "print(predict_single(model5, arr))\n",
        "print(predict_single(model5, arr).shape)"
      ],
      "execution_count": 45,
      "outputs": [
        {
          "output_type": "stream",
          "text": [
            "[[1 1 1]\n",
            " [0 0 0]\n",
            " [2 2 2]]\n",
            "[3. 3. 3.]\n",
            "(3,)\n"
          ],
          "name": "stdout"
        }
      ]
    },
    {
      "cell_type": "markdown",
      "metadata": {
        "id": "JrlSjjOt7RSv"
      },
      "source": [
        "### Tensor reduce_sum 3"
      ]
    },
    {
      "cell_type": "code",
      "metadata": {
        "colab": {
          "base_uri": "https://localhost:8080/"
        },
        "id": "5RkXwkEf7RSw",
        "outputId": "87195a44-82ae-453d-9da9-b6b3f71cbfc8"
      },
      "source": [
        "input_layer = Input((3, 3, 3))\n",
        "output_layer = tf.reduce_sum(input_layer, axis=[3])\n",
        "model5 = Model(input_layer, output_layer)\n",
        "\n",
        "#model5.summary()\n",
        "\n",
        "input_ = np.ones((3,3,3))\n",
        "input_ = np.array([110,120,130,140,150,160,170,180,190,210,220,230,240,250,260,270,280,290,310,320,330,340,350,360,370,380,390]).reshape((3,3,3))\n",
        "print(input_)\n",
        "predict_single(model5, input_)"
      ],
      "execution_count": 52,
      "outputs": [
        {
          "output_type": "stream",
          "text": [
            "[[[110 120 130]\n",
            "  [140 150 160]\n",
            "  [170 180 190]]\n",
            "\n",
            " [[210 220 230]\n",
            "  [240 250 260]\n",
            "  [270 280 290]]\n",
            "\n",
            " [[310 320 330]\n",
            "  [340 350 360]\n",
            "  [370 380 390]]]\n"
          ],
          "name": "stdout"
        },
        {
          "output_type": "execute_result",
          "data": {
            "text/plain": [
              "array([[ 360.,  450.,  540.],\n",
              "       [ 660.,  750.,  840.],\n",
              "       [ 960., 1050., 1140.]], dtype=float32)"
            ]
          },
          "metadata": {
            "tags": []
          },
          "execution_count": 52
        }
      ]
    },
    {
      "cell_type": "code",
      "metadata": {
        "colab": {
          "base_uri": "https://localhost:8080/"
        },
        "id": "58F6ZIEK9B3p",
        "outputId": "880e474e-e9c2-4fd6-da9d-a651a6c4275d"
      },
      "source": [
        "arr = np.zeros((3,3,3), dtype=\"uint8\")\n",
        "arr.fill(17)\n",
        "arr"
      ],
      "execution_count": null,
      "outputs": [
        {
          "output_type": "execute_result",
          "data": {
            "text/plain": [
              "array([[[17, 17, 17],\n",
              "        [17, 17, 17],\n",
              "        [17, 17, 17]],\n",
              "\n",
              "       [[17, 17, 17],\n",
              "        [17, 17, 17],\n",
              "        [17, 17, 17]],\n",
              "\n",
              "       [[17, 17, 17],\n",
              "        [17, 17, 17],\n",
              "        [17, 17, 17]]], dtype=uint8)"
            ]
          },
          "metadata": {
            "tags": []
          },
          "execution_count": 121
        }
      ]
    }
  ]
}