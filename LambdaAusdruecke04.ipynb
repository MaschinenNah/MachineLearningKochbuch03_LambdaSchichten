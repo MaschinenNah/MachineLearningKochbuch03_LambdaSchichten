{
  "nbformat": 4,
  "nbformat_minor": 0,
  "metadata": {
    "colab": {
      "name": "LambdaAusdruecke04.ipynb",
      "provenance": [],
      "collapsed_sections": [],
      "authorship_tag": "ABX9TyOiFFVCQhk49u7oi7FsVNka",
      "include_colab_link": true
    },
    "kernelspec": {
      "name": "python3",
      "display_name": "Python 3"
    },
    "language_info": {
      "name": "python"
    }
  },
  "cells": [
    {
      "cell_type": "markdown",
      "metadata": {
        "id": "view-in-github",
        "colab_type": "text"
      },
      "source": [
        "<a href=\"https://colab.research.google.com/github/MaschinenNah/MachineLearningKochbuch03_LambdaSchichten/blob/main/LambdaAusdruecke04.ipynb\" target=\"_parent\"><img src=\"https://colab.research.google.com/assets/colab-badge.svg\" alt=\"Open In Colab\"/></a>"
      ]
    },
    {
      "cell_type": "markdown",
      "metadata": {
        "id": "cjJiivyK89Od"
      },
      "source": [
        "# Tensoren\n"
      ]
    },
    {
      "cell_type": "code",
      "metadata": {
        "id": "GsavWSVDvH8V"
      },
      "source": [
        "from keras.layers import Input, Lambda\n",
        "from keras.models import Model\n",
        "import numpy as np"
      ],
      "execution_count": null,
      "outputs": []
    },
    {
      "cell_type": "code",
      "metadata": {
        "id": "Bki2DJWJuinQ"
      },
      "source": [
        "def predict_single(model, input):\n",
        "  input = input[np.newaxis, ...]\n",
        "  output = model.predict(input)[0]\n",
        "  return output"
      ],
      "execution_count": null,
      "outputs": []
    },
    {
      "cell_type": "code",
      "metadata": {
        "id": "Z5G2rTc_11-a"
      },
      "source": [
        "import tensorflow as tf"
      ],
      "execution_count": null,
      "outputs": []
    },
    {
      "cell_type": "code",
      "metadata": {
        "colab": {
          "base_uri": "https://localhost:8080/"
        },
        "id": "Pjf5zDuI19s8",
        "outputId": "f698f534-a262-4b61-d9a3-a85fefcf67de"
      },
      "source": [
        "input_layer = Input((3,3))\n",
        "output_layer = tf.math.multiply(input_layer, input_layer)\n",
        "model4 = Model(input_layer, output_layer)\n",
        "\n",
        "model4.summary()"
      ],
      "execution_count": null,
      "outputs": [
        {
          "output_type": "stream",
          "text": [
            "Model: \"model_5\"\n",
            "__________________________________________________________________________________________________\n",
            "Layer (type)                    Output Shape         Param #     Connected to                     \n",
            "==================================================================================================\n",
            "input_6 (InputLayer)            [(None, 3, 3)]       0                                            \n",
            "__________________________________________________________________________________________________\n",
            "tf.math.multiply (TFOpLambda)   (None, 3, 3)         0           input_6[0][0]                    \n",
            "                                                                 input_6[0][0]                    \n",
            "==================================================================================================\n",
            "Total params: 0\n",
            "Trainable params: 0\n",
            "Non-trainable params: 0\n",
            "__________________________________________________________________________________________________\n"
          ],
          "name": "stdout"
        }
      ]
    },
    {
      "cell_type": "code",
      "metadata": {
        "colab": {
          "base_uri": "https://localhost:8080/"
        },
        "id": "Z4gaXWOe2NAj",
        "outputId": "6a458ed8-412c-4fbb-a3db-a31d143ee83c"
      },
      "source": [
        "predict_single(model4, np.array([1,2,3,4,5,6,7,8,9]).reshape((3,3)))"
      ],
      "execution_count": null,
      "outputs": [
        {
          "output_type": "stream",
          "text": [
            "WARNING:tensorflow:5 out of the last 6 calls to <function Model.make_predict_function.<locals>.predict_function at 0x7f7a45852560> triggered tf.function retracing. Tracing is expensive and the excessive number of tracings could be due to (1) creating @tf.function repeatedly in a loop, (2) passing tensors with different shapes, (3) passing Python objects instead of tensors. For (1), please define your @tf.function outside of the loop. For (2), @tf.function has experimental_relax_shapes=True option that relaxes argument shapes that can avoid unnecessary retracing. For (3), please refer to https://www.tensorflow.org/guide/function#controlling_retracing and https://www.tensorflow.org/api_docs/python/tf/function for  more details.\n"
          ],
          "name": "stdout"
        },
        {
          "output_type": "execute_result",
          "data": {
            "text/plain": [
              "array([[ 1.,  4.,  9.],\n",
              "       [16., 25., 36.],\n",
              "       [49., 64., 81.]], dtype=float32)"
            ]
          },
          "metadata": {
            "tags": []
          },
          "execution_count": 18
        }
      ]
    },
    {
      "cell_type": "markdown",
      "metadata": {
        "id": "1c8iF68s3Upz"
      },
      "source": [
        "### Tensor reduce_sum"
      ]
    },
    {
      "cell_type": "code",
      "metadata": {
        "colab": {
          "base_uri": "https://localhost:8080/"
        },
        "id": "5R4PVY_d3bYI",
        "outputId": "9d32ecd5-ffba-4d27-d97b-f238bf1d937a"
      },
      "source": [
        "input_layer = Input((3))\n",
        "output_layer = tf.reduce_sum(input_layer, axis=1)\n",
        "model5 = Model(input_layer, output_layer)\n",
        "\n",
        "model5.summary()"
      ],
      "execution_count": null,
      "outputs": [
        {
          "output_type": "stream",
          "text": [
            "Model: \"model_6\"\n",
            "_________________________________________________________________\n",
            "Layer (type)                 Output Shape              Param #   \n",
            "=================================================================\n",
            "input_7 (InputLayer)         [(None, 3)]               0         \n",
            "_________________________________________________________________\n",
            "tf.math.reduce_sum (TFOpLamb (None,)                   0         \n",
            "=================================================================\n",
            "Total params: 0\n",
            "Trainable params: 0\n",
            "Non-trainable params: 0\n",
            "_________________________________________________________________\n"
          ],
          "name": "stdout"
        }
      ]
    },
    {
      "cell_type": "code",
      "metadata": {
        "colab": {
          "base_uri": "https://localhost:8080/"
        },
        "id": "Z-tvg89G3bYJ",
        "outputId": "857ffc5f-1d6b-440e-ffde-12b27fad5eaa"
      },
      "source": [
        "predict_single(model5, np.array([1.1,1.2,2.3]))"
      ],
      "execution_count": null,
      "outputs": [
        {
          "output_type": "stream",
          "text": [
            "WARNING:tensorflow:6 out of the last 7 calls to <function Model.make_predict_function.<locals>.predict_function at 0x7f7a45aa4440> triggered tf.function retracing. Tracing is expensive and the excessive number of tracings could be due to (1) creating @tf.function repeatedly in a loop, (2) passing tensors with different shapes, (3) passing Python objects instead of tensors. For (1), please define your @tf.function outside of the loop. For (2), @tf.function has experimental_relax_shapes=True option that relaxes argument shapes that can avoid unnecessary retracing. For (3), please refer to https://www.tensorflow.org/guide/function#controlling_retracing and https://www.tensorflow.org/api_docs/python/tf/function for  more details.\n"
          ],
          "name": "stdout"
        },
        {
          "output_type": "execute_result",
          "data": {
            "text/plain": [
              "4.6000004"
            ]
          },
          "metadata": {
            "tags": []
          },
          "execution_count": 20
        }
      ]
    },
    {
      "cell_type": "markdown",
      "metadata": {
        "id": "61zVCapP59j6"
      },
      "source": [
        "### Tensor reduce_sum 2"
      ]
    },
    {
      "cell_type": "code",
      "metadata": {
        "colab": {
          "base_uri": "https://localhost:8080/"
        },
        "id": "DsY0zwf959j7",
        "outputId": "d1a8259d-62fb-4d79-f092-b769323a8d40"
      },
      "source": [
        "input_layer = Input((3, 3))\n",
        "output_layer = tf.reduce_sum(input_layer, axis=[1,2])\n",
        "model5 = Model(input_layer, output_layer)\n",
        "\n",
        "#model5.summary()\n",
        "\n",
        "predict_single(model5, np.array([1,1,1,1,1,1,1,1,1]).reshape((3,3)))"
      ],
      "execution_count": null,
      "outputs": [
        {
          "output_type": "stream",
          "text": [
            "WARNING:tensorflow:11 out of the last 11 calls to <function Model.make_predict_function.<locals>.predict_function at 0x7f277fa99200> triggered tf.function retracing. Tracing is expensive and the excessive number of tracings could be due to (1) creating @tf.function repeatedly in a loop, (2) passing tensors with different shapes, (3) passing Python objects instead of tensors. For (1), please define your @tf.function outside of the loop. For (2), @tf.function has experimental_relax_shapes=True option that relaxes argument shapes that can avoid unnecessary retracing. For (3), please refer to https://www.tensorflow.org/guide/function#controlling_retracing and https://www.tensorflow.org/api_docs/python/tf/function for  more details.\n"
          ],
          "name": "stdout"
        },
        {
          "output_type": "execute_result",
          "data": {
            "text/plain": [
              "9.0"
            ]
          },
          "metadata": {
            "tags": []
          },
          "execution_count": 105
        }
      ]
    },
    {
      "cell_type": "markdown",
      "metadata": {
        "id": "JrlSjjOt7RSv"
      },
      "source": [
        "### Tensor reduce_sum 3"
      ]
    },
    {
      "cell_type": "code",
      "metadata": {
        "colab": {
          "base_uri": "https://localhost:8080/"
        },
        "id": "5RkXwkEf7RSw",
        "outputId": "950def66-6c30-40e5-e0c6-b892991236ca"
      },
      "source": [
        "input_layer = Input((3, 3, 3))\n",
        "output_layer = tf.reduce_sum(input_layer, axis=[1])\n",
        "model5 = Model(input_layer, output_layer)\n",
        "\n",
        "#model5.summary()\n",
        "\n",
        "input_ = np.ones((3,3,3))\n",
        "input_ = np.array([10,20,30,40,50,60,70,80,90,10,20,30,40,50,60,70,80,90,10,20,30,40,50,60,70,80,90]).reshape((3,3,3))\n",
        "print(input_)\n",
        "predict_single(model5, input_)"
      ],
      "execution_count": null,
      "outputs": [
        {
          "output_type": "stream",
          "text": [
            "[[[10 20 30]\n",
            "  [40 50 60]\n",
            "  [70 80 90]]\n",
            "\n",
            " [[10 20 30]\n",
            "  [40 50 60]\n",
            "  [70 80 90]]\n",
            "\n",
            " [[10 20 30]\n",
            "  [40 50 60]\n",
            "  [70 80 90]]]\n",
            "WARNING:tensorflow:11 out of the last 11 calls to <function Model.make_predict_function.<locals>.predict_function at 0x7f2779fdbcb0> triggered tf.function retracing. Tracing is expensive and the excessive number of tracings could be due to (1) creating @tf.function repeatedly in a loop, (2) passing tensors with different shapes, (3) passing Python objects instead of tensors. For (1), please define your @tf.function outside of the loop. For (2), @tf.function has experimental_relax_shapes=True option that relaxes argument shapes that can avoid unnecessary retracing. For (3), please refer to https://www.tensorflow.org/guide/function#controlling_retracing and https://www.tensorflow.org/api_docs/python/tf/function for  more details.\n"
          ],
          "name": "stdout"
        },
        {
          "output_type": "execute_result",
          "data": {
            "text/plain": [
              "array([[ 30.,  60.,  90.],\n",
              "       [120., 150., 180.],\n",
              "       [210., 240., 270.]], dtype=float32)"
            ]
          },
          "metadata": {
            "tags": []
          },
          "execution_count": 115
        }
      ]
    },
    {
      "cell_type": "code",
      "metadata": {
        "colab": {
          "base_uri": "https://localhost:8080/"
        },
        "id": "58F6ZIEK9B3p",
        "outputId": "880e474e-e9c2-4fd6-da9d-a651a6c4275d"
      },
      "source": [
        "arr = np.zeros((3,3,3), dtype=\"uint8\")\n",
        "arr.fill(17)\n",
        "arr"
      ],
      "execution_count": null,
      "outputs": [
        {
          "output_type": "execute_result",
          "data": {
            "text/plain": [
              "array([[[17, 17, 17],\n",
              "        [17, 17, 17],\n",
              "        [17, 17, 17]],\n",
              "\n",
              "       [[17, 17, 17],\n",
              "        [17, 17, 17],\n",
              "        [17, 17, 17]],\n",
              "\n",
              "       [[17, 17, 17],\n",
              "        [17, 17, 17],\n",
              "        [17, 17, 17]]], dtype=uint8)"
            ]
          },
          "metadata": {
            "tags": []
          },
          "execution_count": 121
        }
      ]
    }
  ]
}