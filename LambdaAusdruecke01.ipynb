{
  "nbformat": 4,
  "nbformat_minor": 0,
  "metadata": {
    "colab": {
      "name": "LambdaAusdruecke01.ipynb",
      "provenance": [],
      "collapsed_sections": [],
      "authorship_tag": "ABX9TyN8juYECwSa3VgkeCySXF+t",
      "include_colab_link": true
    },
    "kernelspec": {
      "name": "python3",
      "display_name": "Python 3"
    },
    "language_info": {
      "name": "python"
    }
  },
  "cells": [
    {
      "cell_type": "markdown",
      "metadata": {
        "id": "view-in-github",
        "colab_type": "text"
      },
      "source": [
        "<a href=\"https://colab.research.google.com/github/MaschinenNah/MachineLearningKochbuch03_LambdaSchichten/blob/main/LambdaAusdruecke01.ipynb\" target=\"_parent\"><img src=\"https://colab.research.google.com/assets/colab-badge.svg\" alt=\"Open In Colab\"/></a>"
      ]
    },
    {
      "cell_type": "markdown",
      "metadata": {
        "id": "cjJiivyK89Od"
      },
      "source": [
        "# Lambda Schichten 01 – Was ist ein Lambda Ausdruck?\n",
        "\n",
        "Python ist auch eine funktionale Programmiersprache. Was bedeutet das?\n",
        "\n",
        "1. Funktionen können Funktionen als Argumente übernehmen.\n",
        "2. Die Rückgabewerte von Funktionen können Funktionen sein.\n",
        "\n",
        "Das hat diverse Konsequenzen und Vorteile, die an dieser Stelle nicht alle diskutiert werden sollen. Stattdessen schauen wir uns ein paar konkrete Beispiele an."
      ]
    },
    {
      "cell_type": "markdown",
      "metadata": {
        "id": "7WtwVeXDI0uO"
      },
      "source": [
        "### Funktionen als Argumente"
      ]
    },
    {
      "cell_type": "markdown",
      "metadata": {
        "id": "ig16wfDK_EE-"
      },
      "source": [
        "Zunächst definieren wir eine Funktion `add_one`, die zum Argument 1 hinzuzählt und das Ergebnis zurückliefert:\n"
      ]
    },
    {
      "cell_type": "code",
      "metadata": {
        "colab": {
          "base_uri": "https://localhost:8080/"
        },
        "id": "hBhfBvCw88Pu",
        "outputId": "4ebf8e3d-00d9-4dd5-b4b8-af703d313cf0"
      },
      "source": [
        "def add_one(value):\n",
        "  return value + 1\n",
        "\n",
        "print(add_one(1))  # => 2\n",
        "print(add_one(6))  # => 7\n",
        "print(add_one(1.234))  # => 2.234"
      ],
      "execution_count": 1,
      "outputs": [
        {
          "output_type": "stream",
          "text": [
            "2\n",
            "7\n",
            "2.234\n"
          ],
          "name": "stdout"
        }
      ]
    },
    {
      "cell_type": "markdown",
      "metadata": {
        "id": "TfcH7zx9_bpi"
      },
      "source": [
        "Die Funktion map erwartet zwei Argumente:\n",
        "\n",
        "1. eine Funktion `f`\n",
        "2. eine Liste `l`\n",
        "\n",
        "map wendet auf jedes Element der Liste `l` die Funktion `f` (im folgendem Beispiel `add_one`) an.\n",
        "\n",
        "Das Ergebnis wird in einem map-Objekt gespeichert, das sich mit `list()` in eine Liste umwandeln lässt."
      ]
    },
    {
      "cell_type": "code",
      "metadata": {
        "colab": {
          "base_uri": "https://localhost:8080/"
        },
        "id": "1LL2GxtC88_M",
        "outputId": "53f79029-64e6-44aa-c119-cd8813f5135c"
      },
      "source": [
        "numbers = [1, 2 ,3 ,4]\n",
        "\n",
        "result = map(add_one, numbers)\n",
        "\n",
        "print(result)       # => <map object at ...>\n",
        "print(list(result)) # => [2, 3, 4, 5]"
      ],
      "execution_count": null,
      "outputs": [
        {
          "output_type": "stream",
          "text": [
            "<map object at 0x7f9fd354fc90>\n",
            "[2, 3, 4, 5]\n"
          ],
          "name": "stdout"
        }
      ]
    },
    {
      "cell_type": "markdown",
      "metadata": {
        "id": "DvbDZg0yC-Sb"
      },
      "source": [
        "Es gibt in Python viele derartige Funktionen, zum Beispiel `filter`.\n",
        "\n",
        "Angenommen, wir wollen aus einer Liste eine neue Liste generieren, die nur jede Elemente enthält, die größer 5 sind. Dann können wir das wie folgt erledigen:"
      ]
    },
    {
      "cell_type": "code",
      "metadata": {
        "colab": {
          "base_uri": "https://localhost:8080/"
        },
        "id": "NPNz4dDRDbdy",
        "outputId": "6954c1fe-7635-408c-fdb5-8cc45d8228d3"
      },
      "source": [
        "def bigger_than_five(value):\n",
        "  return value > 5\n",
        "\n",
        "numbers = [3, 22, 19, 5, 8, 1]\n",
        "\n",
        "result = filter(bigger_than_five, numbers)\n",
        "\n",
        "print(list(result)) # => [22, 19, 8]"
      ],
      "execution_count": null,
      "outputs": [
        {
          "output_type": "stream",
          "text": [
            "[22, 19, 8]\n"
          ],
          "name": "stdout"
        }
      ]
    },
    {
      "cell_type": "markdown",
      "metadata": {
        "id": "AliWkte9HLP3"
      },
      "source": [
        "Es kommt häufig vor, dass eine Funktion wie `bigger_than_five` im letzten Beispiel nur ein einziges Mal gebraucht wird.\n",
        "\n",
        "In diesem Fall haben wir die Möglichkeit, die Funktion direkt an `filter` zu übergeben, ohne voherige Definition, und ohne ihr einen Namen zu geben:\n",
        "\n"
      ]
    },
    {
      "cell_type": "code",
      "metadata": {
        "colab": {
          "base_uri": "https://localhost:8080/"
        },
        "id": "4fODiPKfH4XD",
        "outputId": "1658da19-c2aa-4939-f343-03ac7a8a4d02"
      },
      "source": [
        "numbers = [3, 22, 19, 5, 8, 1]\n",
        "\n",
        "result = filter(lambda n : n > 5, numbers)\n",
        "\n",
        "print(list(result)) # => [22, 19, 8]"
      ],
      "execution_count": null,
      "outputs": [
        {
          "output_type": "stream",
          "text": [
            "[22, 19, 8]\n"
          ],
          "name": "stdout"
        }
      ]
    },
    {
      "cell_type": "markdown",
      "metadata": {
        "id": "1vj2Jy81IKqo"
      },
      "source": [
        "Lambda-Ausdrücke machen also in vielen Situationen knappere und besser lesbare Ausdrücke möglich!"
      ]
    },
    {
      "cell_type": "markdown",
      "metadata": {
        "id": "SgQEGsMUI5t-"
      },
      "source": [
        "### Funktionen als Rückgabewerte\n"
      ]
    },
    {
      "cell_type": "markdown",
      "metadata": {
        "id": "5uuJO2UmJAj9"
      },
      "source": [
        "Im folgenden definieren wir eine Funktion, die eine Funktion zurückliefert:"
      ]
    },
    {
      "cell_type": "code",
      "metadata": {
        "colab": {
          "base_uri": "https://localhost:8080/"
        },
        "id": "zi25KsJPJI0A",
        "outputId": "d4d5d565-4b25-4f10-fb37-b0c527c796aa"
      },
      "source": [
        "def make_decorator_function(decoration):\n",
        "  def decorate_with_x(cake):\n",
        "    return cake + \" with \" + decoration\n",
        "  return decorate_with_x\n",
        "\n",
        "decorate_with_walnuts = make_decorator_function(\"walnuts\")\n",
        "\n",
        "decorate_with_cream = make_decorator_function(\"cream\")\n",
        "\n",
        "the_cake = \"cake\"\n",
        "\n",
        "the_cake = decorate_with_walnuts(the_cake)\n",
        "print(the_cake) # => cake with walnuts\n",
        "\n",
        "the_cake = decorate_with_cream(the_cake)\n",
        "print(the_cake) # => cake with walnuts with cream"
      ],
      "execution_count": null,
      "outputs": [
        {
          "output_type": "stream",
          "text": [
            "cake with walnuts\n",
            "cake with walnuts with cream\n"
          ],
          "name": "stdout"
        }
      ]
    },
    {
      "cell_type": "markdown",
      "metadata": {
        "id": "vezhAtJWL3F9"
      },
      "source": [
        "In dem Fall ist es offensichtlich überflüssig, der in make_decorator_function definierten Funktion überhaupt einen Namen (hier: decorate_with_x) zu geben. Denn ausserhalb des Körpers von make_decorator_function ist decorate_with_x nicht sichtbar.\n",
        "\n",
        "Auch hier verhilft der Lambda-Ausdruck zu einer knapperen und besser lesbaren Schreibweise:"
      ]
    },
    {
      "cell_type": "code",
      "metadata": {
        "colab": {
          "base_uri": "https://localhost:8080/"
        },
        "id": "QsbrQc4RMWFZ",
        "outputId": "94076192-9389-4a2e-b85f-990f04ca9e1d"
      },
      "source": [
        "def make_decorator_function(decoration):\n",
        "  return lambda cake : cake + \" with \" + decoration\n",
        "\n",
        "decorate_with_walnuts = make_decorator_function(\"walnuts\")\n",
        "\n",
        "decorate_with_cream = make_decorator_function(\"cream\")\n",
        "\n",
        "the_cake = \"cake\"\n",
        "\n",
        "the_cake = decorate_with_walnuts(the_cake)\n",
        "print(the_cake) # => cake with walnuts\n",
        "\n",
        "the_cake = decorate_with_cream(the_cake)\n",
        "print(the_cake) # => cake with walnuts with cream"
      ],
      "execution_count": null,
      "outputs": [
        {
          "output_type": "stream",
          "text": [
            "cake with walnuts\n",
            "cake with walnuts with cream\n"
          ],
          "name": "stdout"
        }
      ]
    }
  ]
}