{
  "nbformat": 4,
  "nbformat_minor": 0,
  "metadata": {
    "colab": {
      "name": "LambdaAusdruecke03.ipynb",
      "provenance": [],
      "collapsed_sections": [],
      "authorship_tag": "ABX9TyP8U0op+esfmrTUC87ueHfJ",
      "include_colab_link": true
    },
    "kernelspec": {
      "name": "python3",
      "display_name": "Python 3"
    },
    "language_info": {
      "name": "python"
    }
  },
  "cells": [
    {
      "cell_type": "markdown",
      "metadata": {
        "id": "view-in-github",
        "colab_type": "text"
      },
      "source": [
        "<a href=\"https://colab.research.google.com/github/MaschinenNah/MachineLearningKochbuch03_LambdaSchichten/blob/main/LambdaAusdruecke03.ipynb\" target=\"_parent\"><img src=\"https://colab.research.google.com/assets/colab-badge.svg\" alt=\"Open In Colab\"/></a>"
      ]
    },
    {
      "cell_type": "markdown",
      "metadata": {
        "id": "cjJiivyK89Od"
      },
      "source": [
        "# Lambda Schichten 03\n"
      ]
    },
    {
      "cell_type": "code",
      "metadata": {
        "id": "xl5WmCcFc03_",
        "colab": {
          "base_uri": "https://localhost:8080/"
        },
        "outputId": "e33f9cf9-e6ee-461b-a402-75c0988da444"
      },
      "source": [
        "from keras.layers import Input, Lambda\n",
        "from keras.models import Model\n",
        "import numpy as np\n",
        "import tensorflow as tf\n",
        "from matplotlib import pyplot as plt\n",
        "\n",
        "!git clone https://github.com/MaschinenNah/ml_utils\n",
        "from ml_utils import load\n",
        "from ml_utils import convert\n",
        "from ml_utils import show\n",
        "from ml_utils import frame_predict as fp\n",
        "\n",
        "# Hier kommen einige unwichtige und störende Warnungen, deshalb:\n",
        "import warnings\n",
        "warnings.filterwarnings('ignore')\n",
        "\n",
        "# Weil Modelle immer Batches verarbeiten, \n",
        "# wir uns aber erst einmal einzelne Beispiele anschauen wollen:\n",
        "def predict_single(model, input):\n",
        "  input = input[np.newaxis, ...]\n",
        "  output = model.predict(input)[0]\n",
        "  return output"
      ],
      "execution_count": 8,
      "outputs": [
        {
          "output_type": "stream",
          "text": [
            "fatal: destination path 'ml_utils' already exists and is not an empty directory.\n"
          ],
          "name": "stdout"
        }
      ]
    },
    {
      "cell_type": "code",
      "metadata": {
        "id": "nUZwvHkm_Dmj"
      },
      "source": [
        "zip_url = \"https://github.com/MaschinenNah/demo_daten/raw/main/farbige_bilder_48_48.zip\"\n",
        "load.load_and_unzip_from_url(zip_url)"
      ],
      "execution_count": 3,
      "outputs": []
    },
    {
      "cell_type": "code",
      "metadata": {
        "colab": {
          "base_uri": "https://localhost:8080/",
          "height": 284
        },
        "id": "382virhq8kH0",
        "outputId": "e3cbd307-a33c-4708-8236-eb3f62b8a5c1"
      },
      "source": [
        "path = \"/content/data/img_train/1110321_1.jpg\"\n",
        "img = load.img_path_to_np_array(path)\n",
        "img = convert.rgb_to_grayscale(img)\n",
        "plt.imshow(img, cmap='gray')"
      ],
      "execution_count": 16,
      "outputs": [
        {
          "output_type": "execute_result",
          "data": {
            "text/plain": [
              "<matplotlib.image.AxesImage at 0x7fe10b32d690>"
            ]
          },
          "metadata": {
            "tags": []
          },
          "execution_count": 16
        },
        {
          "output_type": "display_data",
          "data": {
            "image/png": "[encoded data removed]",
            "text/plain": [
              "<Figure size 432x288 with 1 Axes>"
            ]
          },
          "metadata": {
            "tags": [],
            "needs_background": "light"
          }
        }
      ]
    },
    {
      "cell_type": "code",
      "metadata": {
        "colab": {
          "base_uri": "https://localhost:8080/"
        },
        "id": "c5Ynw1md6KhA",
        "outputId": "9c0afd37-1f4f-4f30-e113-b38867ed6843"
      },
      "source": [
        "input_layer = Input((48, 48))\n",
        "output_layer = Lambda(lambda n : tf.where(n < 0.5, 0, 1))(input_layer)\n",
        "model = Model(input_layer, output_layer)\n",
        "model.summary()"
      ],
      "execution_count": 17,
      "outputs": [
        {
          "output_type": "stream",
          "text": [
            "Model: \"model_4\"\n",
            "_________________________________________________________________\n",
            "Layer (type)                 Output Shape              Param #   \n",
            "=================================================================\n",
            "input_5 (InputLayer)         [(None, 48, 48)]          0         \n",
            "_________________________________________________________________\n",
            "lambda_4 (Lambda)            (None, 48, 48)            0         \n",
            "=================================================================\n",
            "Total params: 0\n",
            "Trainable params: 0\n",
            "Non-trainable params: 0\n",
            "_________________________________________________________________\n"
          ],
          "name": "stdout"
        }
      ]
    },
    {
      "cell_type": "code",
      "metadata": {
        "colab": {
          "base_uri": "https://localhost:8080/",
          "height": 284
        },
        "id": "TEKYQtOBAg-p",
        "outputId": "32abb9e8-b6fe-48df-9389-c0d0450f0580"
      },
      "source": [
        "img_new = predict_single(model, img)\n",
        "plt.imshow(img_new, cmap='gray')"
      ],
      "execution_count": 18,
      "outputs": [
        {
          "output_type": "execute_result",
          "data": {
            "text/plain": [
              "<matplotlib.image.AxesImage at 0x7fe10b05a550>"
            ]
          },
          "metadata": {
            "tags": []
          },
          "execution_count": 18
        },
        {
          "output_type": "display_data",
          "data": {
            "image/png": "[encoded data removed]",
            "text/plain": [
              "<Figure size 432x288 with 1 Axes>"
            ]
          },
          "metadata": {
            "tags": [],
            "needs_background": "light"
          }
        }
      ]
    }
  ]
}